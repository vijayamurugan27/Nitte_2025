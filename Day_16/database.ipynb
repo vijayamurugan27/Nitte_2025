{
 "cells": [
  {
   "cell_type": "code",
   "execution_count": 1,
   "id": "bdeafa94",
   "metadata": {},
   "outputs": [
    {
     "name": "stdout",
     "output_type": "stream",
     "text": [
      "hello world\n"
     ]
    }
   ],
   "source": [
    "print(\"hello world\")"
   ]
  },
  {
   "cell_type": "code",
   "execution_count": null,
   "id": "b6c609c6",
   "metadata": {},
   "outputs": [],
   "source": []
  },
  {
   "cell_type": "code",
   "execution_count": 2,
   "id": "3b195b3f",
   "metadata": {},
   "outputs": [
    {
     "name": "stdout",
     "output_type": "stream",
     "text": [
      "Student added successfully\n",
      "Student added successfully\n",
      "Students:\n",
      "('S001', 'John Doe', 20, 'A')\n",
      "('S002', 'Jane Doe', 22, 'B')\n",
      "Student updated successfully\n",
      "\n",
      "Updated Students:\n",
      "('S001', 'John Doe', 20, 'A+')\n",
      "('S002', 'Jane Doe', 22, 'B')\n",
      "Student deleted successfully\n",
      "\n",
      "Remaining Students:\n",
      "('S001', 'John Doe', 20, 'A+')\n"
     ]
    }
   ],
   "source": [
    "import sqlite3\n",
    "\n",
    "class StudentDatabase:\n",
    "    def __init__(self, db_name):\n",
    "        self.conn = sqlite3.connect(db_name)\n",
    "        self.cursor = self.conn.cursor()\n",
    "        self.create_table()\n",
    "\n",
    "    def create_table(self):\n",
    "        \"\"\"Create the students table if it doesn't exist\"\"\"\n",
    "        self.cursor.execute('''\n",
    "            CREATE TABLE IF NOT EXISTS students\n",
    "            (student_id TEXT PRIMARY KEY, name TEXT, age INTEGER, grade TEXT)\n",
    "        ''')\n",
    "        self.conn.commit()\n",
    "\n",
    "    def add_student(self, student_id, name, age, grade):\n",
    "        \"\"\"Add a new student to the database\"\"\"\n",
    "        try:\n",
    "            self.cursor.execute('''\n",
    "                INSERT INTO students (student_id, name, age, grade)\n",
    "                VALUES (?, ?, ?, ?)\n",
    "            ''', (student_id, name, age, grade))\n",
    "            self.conn.commit()\n",
    "            print(\"Student added successfully\")\n",
    "        except sqlite3.IntegrityError:\n",
    "            print(\"Student ID already exists\")\n",
    "\n",
    "    def view_students(self):\n",
    "        \"\"\"Display all students in the database\"\"\"\n",
    "        self.cursor.execute('SELECT * FROM students')\n",
    "        rows = self.cursor.fetchall()\n",
    "        for row in rows:\n",
    "            print(row)\n",
    "\n",
    "    def update_student(self, student_id, column, value):\n",
    "        \"\"\"Update a student's information\"\"\"\n",
    "        self.cursor.execute(f'''\n",
    "            UPDATE students\n",
    "            SET {column} = ?\n",
    "            WHERE student_id = ?\n",
    "        ''', (value, student_id))\n",
    "        self.conn.commit()\n",
    "        print(\"Student updated successfully\")\n",
    "\n",
    "    def delete_student(self, student_id):\n",
    "        \"\"\"Delete a student from the database\"\"\"\n",
    "        self.cursor.execute('''\n",
    "            DELETE FROM students\n",
    "            WHERE student_id = ?\n",
    "        ''', (student_id,))\n",
    "        self.conn.commit()\n",
    "        print(\"Student deleted successfully\")\n",
    "\n",
    "    def close_connection(self):\n",
    "        \"\"\"Close the database connection\"\"\"\n",
    "        self.conn.close()\n",
    "\n",
    "# Example usage\n",
    "db = StudentDatabase('student_database.db')\n",
    "\n",
    "# Add students\n",
    "db.add_student('S001', 'John Doe', 20, 'A')\n",
    "db.add_student('S002', 'Jane Doe', 22, 'B')\n",
    "\n",
    "# View students\n",
    "print(\"Students:\")\n",
    "db.view_students()\n",
    "\n",
    "# Update student\n",
    "db.update_student('S001', 'grade', 'A+')\n",
    "\n",
    "# View updated students\n",
    "print(\"\\nUpdated Students:\")\n",
    "db.view_students()\n",
    "\n",
    "# Delete student\n",
    "db.delete_student('S002')\n",
    "\n",
    "# View remaining students\n",
    "print(\"\\nRemaining Students:\")\n",
    "db.view_students()\n",
    "\n",
    "# Close the connection\n",
    "db.close_connection()"
   ]
  },
  {
   "cell_type": "code",
   "execution_count": null,
   "id": "42eb15c3",
   "metadata": {},
   "outputs": [],
   "source": []
  }
 ],
 "metadata": {
  "kernelspec": {
   "display_name": "mueai",
   "language": "python",
   "name": "python3"
  },
  "language_info": {
   "codemirror_mode": {
    "name": "ipython",
    "version": 3
   },
   "file_extension": ".py",
   "mimetype": "text/x-python",
   "name": "python",
   "nbconvert_exporter": "python",
   "pygments_lexer": "ipython3",
   "version": "3.11.11"
  }
 },
 "nbformat": 4,
 "nbformat_minor": 5
}
